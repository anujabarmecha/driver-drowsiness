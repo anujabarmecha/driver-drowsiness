{
 "cells": [
  {
   "cell_type": "code",
   "execution_count": 10,
   "id": "8748d9f0-d011-41e7-99c6-f9bec35241c6",
   "metadata": {},
   "outputs": [],
   "source": [
    "import cv2\n",
    "import numpy as np\n",
    "from tensorflow.keras.models import load_model\n",
    "from playsound import playsound\n",
    "import winsound"
    "import pandas as pd\n",
   ]
  },
  {
   "cell_type": "code",
   "execution_count": 11,
   "id": "83aa6442-cd81-4c34-9cc7-12ea5566f842",
   "metadata": {},
   "outputs": [
    {
     "name": "stderr",
     "output_type": "stream",
     "text": [
      "WARNING:absl:Compiled the loaded model, but the compiled metrics have yet to be built. `model.compile_metrics` will be empty until you train or evaluate the model.\n"
     ]
    }
   ],
   "source": [
    "model = load_model(\"drowsiness_model.h5\")\n",
    "model.compile(optimizer='adam', loss='binary_crossentropy', metrics=['accuracy'])\n"
   ]
  },
  {
   "cell_type": "code",
   "execution_count": 19,
   "id": "6d5f3419-69de-44ab-93d7-38c3a8827669",
   "metadata": {},
   "outputs": [],
   "source": [
    "face_cascade = cv2.CascadeClassifier(cv2.data.haarcascades + 'haarcascade_frontalface_default.xml')\n",
    "eye_cascade = cv2.CascadeClassifier(cv2.data.haarcascades + 'haarcascade_eye.xml')\n",
    "mouth_cascade = cv2.CascadeClassifier(\"haarcascade_mcs_mouth (1).xml\") \n"
   ]
  },
  {
   "cell_type": "code",
   "execution_count": 13,
   "id": "0d1d7eda-335f-4fd1-a8f5-86f72982f34d",
   "metadata": {},
   "outputs": [
    {
     "name": "stdout",
     "output_type": "stream",
     "text": [
      "(None, 64, 64, 3)\n"
     ]
    }
   ],
   "source": [
    "print(model.input_shape)\n"
   ]
  },
  {
   "cell_type": "code",
   "execution_count": 14,
   "id": "f33734ed",
   "metadata": {},
   "outputs": [],
   "source": [
    "drowsy_state = False"
   ]
  },
  {
   "cell_type": "code",
   "execution_count": 15,
   "id": "849eeca2",
   "metadata": {},
   "outputs": [],
   "source": [
    "def detect_yawn(mouth_region):\n",
    "    if mouth_region is not None:\n",
    "        mouth_gray = cv2.cvtColor(mouth_region, cv2.COLOR_BGR2GRAY)\n",
    "        _, mouth_thresh = cv2.threshold(mouth_gray, 30, 255, cv2.THRESH_BINARY_INV)\n",
    "        \n",
    "        contours, _ = cv2.findContours(mouth_thresh, cv2.RETR_TREE, cv2.CHAIN_APPROX_SIMPLE)\n",
    "        if contours:\n",
    "            largest_contour = max(contours, key=cv2.contourArea)\n",
    "            (x, y, w, h) = cv2.boundingRect(largest_contour)\n",
    "            mar = h / float(w)  \n",
    "\n",
    "           \n",
    "            if mar > 0.6:  \n",
    "                return True\n",
    "    return False"
   ]
  },
  {
   "cell_type": "code",
   "execution_count": 16,
   "id": "958645d8-bab2-4100-9a9b-84ddb3b801eb",
   "metadata": {},
   "outputs": [],
   "source": [
    "def detect_drowsiness(frame):\n",
    "    global drowsy_state  \n",
    "    gray = cv2.cvtColor(frame, cv2.COLOR_BGR2GRAY)\n",
    "    faces = face_cascade.detectMultiScale(gray, 1.3, 5)\n",
    "\n",
    "    is_yawning = False\n",
    "    is_drowsy = False\n",
    "\n",
    "    for (x, y, w, h) in faces:\n",
    "        roi_gray = gray[y:y + h, x:x + w]\n",
    "        roi_color = frame[y:y + h, x:x + w]\n",
    "\n",
    "        eyes = eye_cascade.detectMultiScale(roi_gray)\n",
    "        mouth = mouth_cascade.detectMultiScale(roi_gray)\n",
    "\n",
    "        if len(eyes) == 0:  \n",
    "            is_drowsy = True  \n",
    "            if not drowsy_state: \n",
    "                drowsy_state = True\n",
    "                cv2.putText(frame, \"DROWSY!\", (10, 30), cv2.FONT_HERSHEY_SIMPLEX, 1, (0, 0, 255), 2)\n",
    "                winsound.PlaySound(\"C:\\\\Users\\\\Samrudhi\\\\Downloads\\\\short-beep-tone-47916.wav\", winsound.SND_FILENAME)\n",
    "        else:\n",
    "            if drowsy_state: \n",
    "                drowsy_state = False\n",
    "                winsound.PlaySound(None, winsound.SND_PURGE)  \n",
    "                cv2.putText(frame, \"AWAKE!\", (10, 30), cv2.FONT_HERSHEY_SIMPLEX, 1, (0, 255, 0), 2)\n",
    "\n",
    "        \n",
    "        for (mx, my, mw, mh) in mouth:\n",
    "            mouth_region = roi_color[my:my + mh, mx:mx + mw]\n",
    "            if detect_yawn(mouth_region):  \n",
    "                is_yawning = True\n",
    "                cv2.putText(frame, \"YAWNING!\", (10, 70), cv2.FONT_HERSHEY_SIMPLEX, 1, (255, 0, 0), 2)\n",
    "                winsound.PlaySound(\"C:\\\\Users\\\\Samrudhi\\\\Desktop\\\\DD CODE\\\\short-beep-tone-47916.wav\", winsound.SND_FILENAME)\n",
    "\n",
    "    if is_drowsy and is_yawning:\n",
    "        cv2.putText(frame, \"DROWSY & YAWNING!\", (10, 110), cv2.FONT_HERSHEY_SIMPLEX, 1, (255, 0, 255), 2)\n",
    "\n",
    "    return frame\n"
   ]
  },
  {
   "cell_type": "code",
   "execution_count": null,
   "id": "d69ec667",
   "metadata": {},
   "outputs": [],
   "source": []
  },
  {
   "cell_type": "code",
   "execution_count": 17,
   "id": "80e69a05-3f56-4a27-b6dc-813c0d7063de",
   "metadata": {},
   "outputs": [],
   "source": [
    "cap = cv2.VideoCapture(0)\n",
    "while cap.isOpened():\n",
    "    ret, frame = cap.read()\n",
    "    if not ret:\n",
    "        break\n",
    "    frame = detect_drowsiness(frame)\n",
    "    cv2.imshow('Drowsiness Detection', frame)\n",
    "    if cv2.waitKey(1) & 0xFF == ord('q'):\n",
    "        break\n",
    "\n",
    "cap.release()\n",
    "cv2.destroyAllWindows()"
   ]
  }
 ],
 "metadata": {
  "kernelspec": {
   "display_name": "Python 3",
   "language": "python",
   "name": "python3"
  },
  "language_info": {
   "codemirror_mode": {
    "name": "ipython",
    "version": 3
   },
   "file_extension": ".py",
   "mimetype": "text/x-python",
   "name": "python",
   "nbconvert_exporter": "python",
   "pygments_lexer": "ipython3",
   "version": "3.12.4"
  }
 },
 "nbformat": 4,
 "nbformat_minor": 5
}
